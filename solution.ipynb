{
 "cells": [
  {
   "cell_type": "code",
   "execution_count": null,
   "id": "07132c60",
   "metadata": {},
   "outputs": [],
   "source": [
    "import pandas as pd\n",
    "import numpy as np\n",
    "from datetime import datetime\n",
    "import time"
   ]
  },
  {
   "cell_type": "markdown",
   "id": "69e7a626",
   "metadata": {},
   "source": [
    "Import the data"
   ]
  },
  {
   "cell_type": "code",
   "execution_count": null,
   "id": "cf7f7e64",
   "metadata": {},
   "outputs": [],
   "source": [
    "forecast_df = pd.read_excel('data.xlsx', sheet_name=0)\n",
    "meters_df = pd.read_excel('data.xlsx', sheet_name=1)\n",
    "rates_df = pd.read_excel('data.xlsx', sheet_name=2)\n",
    "\n",
    "display(forecast_df)\n",
    "display(meters_df)\n",
    "display(rates_df)"
   ]
  },
  {
   "cell_type": "markdown",
   "id": "e3c93d5d",
   "metadata": {},
   "source": [
    "# 1. Calculate transportation cost for the provided dataset"
   ]
  },
  {
   "cell_type": "code",
   "execution_count": null,
   "id": "c29d691a",
   "metadata": {},
   "outputs": [],
   "source": [
    "def calc_transportation_cost(forecast_df, meters_df, rates_df):\n",
    "    merged_df = pd.merge(meters_df, rates_df, how='right', on='Exit Zone').dropna(subset=['Meter ID'])\n",
    "    \n",
    "    # Select only the relevant rate from imported rates_df based on Annual Quantity\n",
    "    merged_df['Annual Quantity (Max)'] = merged_df['Annual Quantity (Max)'].fillna(np.inf)\n",
    "    merged_df = merged_df[(merged_df['Annual Quantity (kWh)'] >= merged_df['Annual Quantity (Min)']) & (merged_df['Annual Quantity (kWh)'] < merged_df['Annual Quantity (Max)'])]\n",
    "    merged_df.sort_values(['Date'], inplace=True)\n",
    "    \n",
    "    # Create new df to store results\n",
    "    df = pd.DataFrame(columns=forecast_df.columns)\n",
    "    \n",
    "    for grp, grp_df in merged_df.groupby('Meter ID'):\n",
    "        # Generate series to map to correct rate in forecast data\n",
    "        series = pd.Series(\n",
    "            grp_df['Rate (p/kWh)'].tolist()+[np.nan], pd.Index(grp_df['Date'].tolist()+[pd.Timestamp('2024-09-30')])\n",
    "        ).asfreq('D').fillna(method='ffill')\n",
    "        tmp_df = forecast_df[forecast_df['Meter ID'] == grp].copy()\n",
    "        tmp_df['rate'] = forecast_df['Date'].map(series)\n",
    "        \n",
    "        df = df.append(tmp_df)\n",
    "    \n",
    "    df['Cost (p)'] = df['kWh'] * df['rate']\n",
    "    df['Cost (£)'] = df['Cost (p)'] / 100\n",
    "\n",
    "    result = df[['Meter ID', 'kWh', 'Cost (£)']].copy()\n",
    "    result = result.groupby('Meter ID').sum().rename(columns={\n",
    "        'Cost (£)': 'Total Cost (£)',\n",
    "        'kWh': 'Total Estimated Consumption (kWh)'\n",
    "    }).reset_index().round(2)\n",
    "    \n",
    "    return result\n",
    "\n",
    "cost_df = calc_transportation_cost(forecast_df, meters_df, rates_df)\n",
    "\n",
    "cost_df"
   ]
  },
  {
   "cell_type": "markdown",
   "id": "1db65d4c",
   "metadata": {},
   "source": [
    "# 2. Generate random meters with random AQ using Exit Zones from the provided rates table"
   ]
  },
  {
   "cell_type": "code",
   "execution_count": null,
   "id": "034ce4f1",
   "metadata": {},
   "outputs": [],
   "source": [
    "def make_meters(rates_df, number):\n",
    "    \n",
    "    ids = []\n",
    "    while len(ids) < number:\n",
    "        random_id = np.random.randint(10000000, 1000000000)\n",
    "        if random_id not in ids:\n",
    "            ids.append(random_id)\n",
    "            \n",
    "    valid_zones = np.random.choice(rates_df['Exit Zone'].unique().tolist(), number)\n",
    "            \n",
    "    aq = [np.random.randint(0, 1000000) for _ in ids]\n",
    "    \n",
    "    return pd.DataFrame({'Meter ID': ids, 'Exit Zone': valid_zones, 'Annual Quantity (kWh)': aq})\n",
    "\n",
    "# Specify the number of meters to generate\n",
    "new_meters_df = make_meters(rates_df, 20)\n",
    "\n",
    "new_meters_df"
   ]
  },
  {
   "cell_type": "markdown",
   "id": "98708b3d",
   "metadata": {},
   "source": [
    "# 3. Generate mock consumption from a list of meters and a time period"
   ]
  },
  {
   "cell_type": "code",
   "execution_count": null,
   "id": "0048fafd",
   "metadata": {},
   "outputs": [],
   "source": [
    "def make_mock_consumption(meters, start, end):\n",
    "    df = pd.DataFrame(columns=['Date', 'Meter ID', 'kWh'])\n",
    "    for meter in meters:\n",
    "\n",
    "        dates = pd.Index([pd.Timestamp(start), pd.Timestamp(end)])\n",
    "        series = pd.Series([meter]*2, dates).asfreq('D').fillna(meter).apply(int)\n",
    "        tmp_df = pd.DataFrame(series, columns=['Meter ID'])\n",
    "        \n",
    "        tmp_df['Date'] = tmp_df.index\n",
    "        \n",
    "        consumption = np.random.choice(np.arange(1, 999), len(tmp_df))\n",
    "        noise = np.random.normal(0, 1, consumption.shape)\n",
    "        consumption = consumption + noise\n",
    "        tmp_df['kWh'] = consumption\n",
    "        \n",
    "        df = df.append(\n",
    "            tmp_df,\n",
    "            ignore_index=True\n",
    "        )\n",
    "        \n",
    "    return df\n",
    "    \n",
    "random_meters = np.random.choice(new_meters_df['Meter ID'], np.random.randint(1, len(new_meters_df)))\n",
    "start = '2018-04-01'\n",
    "end = '2025-10-01'\n",
    "\n",
    "random_forecast_df = make_mock_consumption(random_meters, start=start, end=end)\n",
    "\n",
    "random_forecast_df"
   ]
  },
  {
   "cell_type": "markdown",
   "id": "3eae87ef",
   "metadata": {},
   "source": [
    "# 4. I already wrote a function in '1' that will generate the transportation cost table. Instead, just write a simple benchmark here."
   ]
  },
  {
   "cell_type": "code",
   "execution_count": null,
   "id": "5589a19f",
   "metadata": {},
   "outputs": [],
   "source": [
    "def benchmark(rates_df, number_of_meters, number_of_years):\n",
    "    \n",
    "    # Make the benchmark df to store results\n",
    "    benchmark_df = pd.DataFrame(columns=['number_of_meters', 'number_of_years', 'execution_time'])\n",
    "    benchmark_df['number_of_meters'] = number_of_meters * len(number_of_years)\n",
    "    benchmark_df['number_of_years'] = [i for i in number_of_years for ii in range(len(number_of_meters))]\n",
    "    \n",
    "    for index, row in benchmark_df.iterrows():\n",
    "        # Generate random forecast data with each iteration   \n",
    "        meters_df = make_meters(rates_df, row['number_of_meters'])\n",
    "        forecast_df = make_mock_consumption(\n",
    "            meters_df['Meter ID'].unique().tolist(),\n",
    "            pd.Timestamp('2020-04-01'), pd.Timestamp('2020-04-01') + pd.Timedelta(days=round(365*row['number_of_years']))\n",
    "        )\n",
    "\n",
    "        # Calculate transport cost and capture execution time\n",
    "        start_t = time.time()\n",
    "        df = calc_transportation_cost(forecast_df, meters_df, rates_df)\n",
    "        total_t = time.time() - start_t\n",
    "        \n",
    "        benchmark_df.loc[index, 'execution_time'] = total_t\n",
    "        \n",
    "        print(f\"{row['number_of_meters']} meters and {row['number_of_years']} year(s) processing time: {round(total_t, 2)} s\")\n",
    "    \n",
    "    print('Done!')\n",
    "    return benchmark_df\n",
    "\n",
    "# Max 3.5 years, because rates exist for that period only. Although theoretically could be extended for + infinite years \n",
    "benchmark_df = benchmark(rates_df, number_of_meters=[25, 50, 75, 100, 125, 150, 175, 200], number_of_years=[0.5, 1, 1.5, 2, 2.5, 3, 3.5])"
   ]
  },
  {
   "cell_type": "markdown",
   "id": "480d9e81",
   "metadata": {},
   "source": [
    "# Plot the benchmarks.\n",
    "\n",
    "Requires plotly and statsmodels"
   ]
  },
  {
   "cell_type": "code",
   "execution_count": null,
   "id": "64d05867",
   "metadata": {},
   "outputs": [],
   "source": [
    "import plotly.express as px\n",
    "\n",
    "fig = px.scatter(benchmark_df, x=\"number_of_meters\", y=\"execution_time\", color=\"number_of_years\", trendline=\"ols\")\n",
    "fig.show()\n",
    "\n",
    "fig = px.scatter(benchmark_df, x=\"number_of_years\", y=\"execution_time\", color=\"number_of_meters\", trendline=\"ols\")\n",
    "fig.show()"
   ]
  },
  {
   "cell_type": "markdown",
   "id": "acd8aede",
   "metadata": {},
   "source": [
    "# 5.\n",
    "\n",
    "Function **calc_transportation_cost** appears to scale linearly, though larger datasets should be tested.\n",
    "\n",
    "A more efficient process of mapping the rates based on the meter data could be implemented. One option would be to reduce the meter data by summing the usage of particular meter for dates resampled into a single rate period.\n",
    "\n",
    "The process of calculating cost for particular meter could also be parallelised using, for instance, Dask."
   ]
  },
  {
   "cell_type": "code",
   "execution_count": null,
   "id": "2f7b9295",
   "metadata": {},
   "outputs": [],
   "source": []
  }
 ],
 "metadata": {
  "kernelspec": {
   "display_name": "Python 3",
   "language": "python",
   "name": "python3"
  },
  "language_info": {
   "codemirror_mode": {
    "name": "ipython",
    "version": 3
   },
   "file_extension": ".py",
   "mimetype": "text/x-python",
   "name": "python",
   "nbconvert_exporter": "python",
   "pygments_lexer": "ipython3",
   "version": "3.9.5"
  }
 },
 "nbformat": 4,
 "nbformat_minor": 5
}
